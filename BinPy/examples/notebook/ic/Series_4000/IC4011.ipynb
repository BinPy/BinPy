{
 "metadata": {
  "name": "",
  "signature": "sha256:86fe723582ba27ba97a7be8359f1537187c164858fb933d91441d270099568c1"
 },
 "nbformat": 3,
 "nbformat_minor": 0,
 "worksheets": [
  {
   "cells": [
    {
     "cell_type": "heading",
     "level": 2,
     "metadata": {},
     "source": [
      "Usage of IC 4011"
     ]
    },
    {
     "cell_type": "code",
     "collapsed": false,
     "input": [
      "from __future__ import print_function\n",
      "from BinPy import *"
     ],
     "language": "python",
     "metadata": {},
     "outputs": [],
     "prompt_number": 1
    },
    {
     "cell_type": "code",
     "collapsed": false,
     "input": [
      "# Usage of IC 4011:\n",
      "\n",
      "ic = IC_4011()\n",
      "\n",
      "print(ic.__doc__)"
     ],
     "language": "python",
     "metadata": {},
     "outputs": [
      {
       "output_type": "stream",
       "stream": "stdout",
       "text": [
        "\n",
        "    Quad 2 input NAND gate\n",
        "    Pin_3 = NAND(Pin_1, Pin_2)\n",
        "    Pin_4 = NAND(Pin_5, Pin_6)\n",
        "    Pin_10 = NAND(Pin_8, Pin_9)\n",
        "    Pin_11 = NAND(Pin_12, Pin_13)\n",
        "    \n"
       ]
      }
     ],
     "prompt_number": 2
    },
    {
     "cell_type": "code",
     "collapsed": false,
     "input": [
      "# The Pin configuration is:\n",
      "\n",
      "inp = {1: 0, 2: 0, 5: 0, 6: 1, 7: 0, 8: 1, 9: 0, 12: 1, 13: 1, 14: 1}\n",
      "\n",
      "# Pin initinalization\n",
      "\n",
      "# Powering up the IC - using -- ic.set_IC({14: 1, 7: 0})\n",
      "\n",
      "ic.set_IC({14: 1, 7: 0})\n",
      "\n",
      "# Setting the inputs of the ic\n",
      "\n",
      "ic.set_IC(inp)\n",
      "\n",
      "# Draw the IC with the current configuration\\n\n",
      "\n",
      "ic.draw_IC()"
     ],
     "language": "python",
     "metadata": {},
     "outputs": [
      {
       "output_type": "stream",
       "stream": "stdout",
       "text": [
        "\n",
        "\n",
        "              \u250c\u2500\u2500\u2500\u2500\u2500\u2500\u2500\u2500\u2500\u25e1\u2500\u2500\u2500\u2500\u2500\u2500\u2500\u2500\u2500\u2510\n",
        "              \u2502                   \u2502\n",
        " A1: [0]    \u2500\u2500\u2524  1            14  \u251c\u2500\u2500    [1] VCC\n",
        "              \u2502                   \u2502\n",
        "              \u2502                   \u2502\n",
        " B1: [0]    \u2500\u2500\u2524  2      4     13  \u251c\u2500\u2500    [1] A4:\n",
        "              \u2502                   \u2502\n",
        "              \u2502                   \u2502\n",
        " Q1: [0]    \u2500\u2500\u2524  3      0     12  \u251c\u2500\u2500    [1] B4:\n",
        "              \u2502                   \u2502\n",
        "              \u2502                   \u2502\n",
        " Q2: [0]    \u2500\u2500\u2524  4      1     11  \u251c\u2500\u2500    [0] Q4:\n",
        "              \u2502                   \u2502\n",
        "              \u2502                   \u2502\n",
        " B2: [0]    \u2500\u2500\u2524  5      1     10  \u251c\u2500\u2500    [0] Q3:\n",
        "              \u2502                   \u2502\n",
        "              \u2502                   \u2502\n",
        " A2: [1]    \u2500\u2500\u2524  6             9  \u251c\u2500\u2500    [0] B3:\n",
        "              \u2502                   \u2502\n",
        "              \u2502                   \u2502\n",
        " GND [0]    \u2500\u2500\u2524  7             8  \u251c\u2500\u2500    [1] A3:\n",
        "              \u2502                   \u2502\n",
        "              \u2514\u2500\u2500\u2500\u2500\u2500\u2500\u2500\u2500\u2500\u2500\u2500\u2500\u2500\u2500\u2500\u2500\u2500\u2500\u2500\u2518  \n"
       ]
      }
     ],
     "prompt_number": 3
    },
    {
     "cell_type": "code",
     "collapsed": false,
     "input": [
      "# Run the IC with the current configuration using -- print ic.run() -- \n",
      "\n",
      "# Note that the ic.run() returns a dict of pin configuration similar to \n",
      "\n",
      "print (ic.run())"
     ],
     "language": "python",
     "metadata": {},
     "outputs": [
      {
       "output_type": "stream",
       "stream": "stdout",
       "text": [
        "{11: 0, 10: 1, 3: 1, 4: 1}\n"
       ]
      }
     ],
     "prompt_number": 4
    },
    {
     "cell_type": "code",
     "collapsed": false,
     "input": [
      "# Seting the outputs to the current IC configuration using -- ic.set_IC(ic.run()) --\\n\n",
      "\n",
      "ic.set_IC(ic.run())\n",
      "\n",
      "# Draw the final configuration\n",
      "\n",
      "ic.draw_IC()"
     ],
     "language": "python",
     "metadata": {},
     "outputs": [
      {
       "output_type": "stream",
       "stream": "stdout",
       "text": [
        "\n",
        "\n",
        "              \u250c\u2500\u2500\u2500\u2500\u2500\u2500\u2500\u2500\u2500\u25e1\u2500\u2500\u2500\u2500\u2500\u2500\u2500\u2500\u2500\u2510\n",
        "              \u2502                   \u2502\n",
        " A1: [0]    \u2500\u2500\u2524  1            14  \u251c\u2500\u2500    [1] VCC\n",
        "              \u2502                   \u2502\n",
        "              \u2502                   \u2502\n",
        " B1: [0]    \u2500\u2500\u2524  2      4     13  \u251c\u2500\u2500    [1] A4:\n",
        "              \u2502                   \u2502\n",
        "              \u2502                   \u2502\n",
        " Q1: [1]    \u2500\u2500\u2524  3      0     12  \u251c\u2500\u2500    [1] B4:\n",
        "              \u2502                   \u2502\n",
        "              \u2502                   \u2502\n",
        " Q2: [1]    \u2500\u2500\u2524  4      1     11  \u251c\u2500\u2500    [0] Q4:\n",
        "              \u2502                   \u2502\n",
        "              \u2502                   \u2502\n",
        " B2: [0]    \u2500\u2500\u2524  5      1     10  \u251c\u2500\u2500    [1] Q3:\n",
        "              \u2502                   \u2502\n",
        "              \u2502                   \u2502\n",
        " A2: [1]    \u2500\u2500\u2524  6             9  \u251c\u2500\u2500    [0] B3:\n",
        "              \u2502                   \u2502\n",
        "              \u2502                   \u2502\n",
        " GND [0]    \u2500\u2500\u2524  7             8  \u251c\u2500\u2500    [1] A3:\n",
        "              \u2502                   \u2502\n",
        "              \u2514\u2500\u2500\u2500\u2500\u2500\u2500\u2500\u2500\u2500\u2500\u2500\u2500\u2500\u2500\u2500\u2500\u2500\u2500\u2500\u2518  \n"
       ]
      }
     ],
     "prompt_number": 5
    },
    {
     "cell_type": "code",
     "collapsed": false,
     "input": [
      "# Seting the outputs to the current IC configuration using -- ic.set_IC(ic.run()) --\n",
      "\n",
      "ic.set_IC(ic.run())\n",
      "\n",
      "# Draw the final configuration\n",
      "\n",
      "ic.draw_IC()\n",
      "\n",
      "# Run the IC\n",
      "\n",
      "print (ic.run())"
     ],
     "language": "python",
     "metadata": {},
     "outputs": [
      {
       "output_type": "stream",
       "stream": "stdout",
       "text": [
        "\n",
        "\n",
        "              \u250c\u2500\u2500\u2500\u2500\u2500\u2500\u2500\u2500\u2500\u25e1\u2500\u2500\u2500\u2500\u2500\u2500\u2500\u2500\u2500\u2510\n",
        "              \u2502                   \u2502\n",
        " A1: [0]    \u2500\u2500\u2524  1            14  \u251c\u2500\u2500    [1] VCC\n",
        "              \u2502                   \u2502\n",
        "              \u2502                   \u2502\n",
        " B1: [0]    \u2500\u2500\u2524  2      4     13  \u251c\u2500\u2500    [1] A4:\n",
        "              \u2502                   \u2502\n",
        "              \u2502                   \u2502\n",
        " Q1: [1]    \u2500\u2500\u2524  3      0     12  \u251c\u2500\u2500    [1] B4:\n",
        "              \u2502                   \u2502\n",
        "              \u2502                   \u2502\n",
        " Q2: [1]    \u2500\u2500\u2524  4      1     11  \u251c\u2500\u2500    [0] Q4:\n",
        "              \u2502                   \u2502\n",
        "              \u2502                   \u2502\n",
        " B2: [0]    \u2500\u2500\u2524  5      1     10  \u251c\u2500\u2500    [1] Q3:\n",
        "              \u2502                   \u2502\n",
        "              \u2502                   \u2502\n",
        " A2: [1]    \u2500\u2500\u2524  6             9  \u251c\u2500\u2500    [0] B3:\n",
        "              \u2502                   \u2502\n",
        "              \u2502                   \u2502\n",
        " GND [0]    \u2500\u2500\u2524  7             8  \u251c\u2500\u2500    [1] A3:\n",
        "              \u2502                   \u2502\n",
        "              \u2514\u2500\u2500\u2500\u2500\u2500\u2500\u2500\u2500\u2500\u2500\u2500\u2500\u2500\u2500\u2500\u2500\u2500\u2500\u2500\u2518  \n",
        "{11: 0, 10: 1, 3: 1, 4: 1}\n"
       ]
      }
     ],
     "prompt_number": 6
    },
    {
     "cell_type": "code",
     "collapsed": false,
     "input": [
      "# Connector Outputs\n",
      "c = Connector()\n",
      "\n",
      "# Set the output connector to a particular pin of the ic\n",
      "ic.set_output(11, c)\n",
      "\n",
      "print(c)"
     ],
     "language": "python",
     "metadata": {},
     "outputs": [
      {
       "output_type": "stream",
       "stream": "stdout",
       "text": [
        "Connector; State: 0\n"
       ]
      }
     ],
     "prompt_number": 7
    }
   ],
   "metadata": {}
  }
 ]
}