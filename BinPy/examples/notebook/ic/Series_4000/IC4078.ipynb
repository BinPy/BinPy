{
 "metadata": {
  "name": "",
  "signature": "sha256:cadfb2ed81d30f3d894affd9845b664651838e6399303ef112abba09f517c97f"
 },
 "nbformat": 3,
 "nbformat_minor": 0,
 "worksheets": [
  {
   "cells": [
    {
     "cell_type": "heading",
     "level": 2,
     "metadata": {},
     "source": [
      "Usage of IC 4078"
     ]
    },
    {
     "cell_type": "code",
     "collapsed": false,
     "input": [
      "from __future__ import print_function\n",
      "from BinPy import *"
     ],
     "language": "python",
     "metadata": {},
     "outputs": [],
     "prompt_number": 1
    },
    {
     "cell_type": "code",
     "collapsed": false,
     "input": [
      "# Usage of IC 4078:\n",
      "\n",
      "ic = IC_4078()\n",
      "\n",
      "print(ic.__doc__)"
     ],
     "language": "python",
     "metadata": {},
     "outputs": [
      {
       "output_type": "stream",
       "stream": "stdout",
       "text": [
        "\n",
        "    8 input NOR gate\n",
        "    Pin_13 = NOR(Pin_2, Pin_3, Pin_4, Pin_5, Pin_9, Pin_10, Pin_11, Pin_12)\n",
        "    \n"
       ]
      }
     ],
     "prompt_number": 2
    },
    {
     "cell_type": "code",
     "collapsed": false,
     "input": [
      "# The Pin configuration is:\n",
      "\n",
      "#inp = {2: 1, 3: 1, 4: 0, 5: 1, 7: 0, 9: 1, 10: 0, 11: 1, 12: 1, 14: 1}\n",
      "inp = {2: 0, 3: 0, 4: 0, 5: 0, 7: 0, 9: 0, 10: 0, 11: 0, 12: 0, 14: 1}\n",
      "\n",
      "# Pin initinalization\n",
      "\n",
      "# Powering up the IC - using -- ic.set_IC({14: 1, 7: 0}) -- \\n\n",
      "\n",
      "ic.set_IC({14: 1, 7: 0})\n",
      "\n",
      "# Setting the inputs of the ic\n",
      "\n",
      "ic.set_IC(inp)\n",
      "\n",
      "# Draw the IC with the current configuration\\n\n",
      "\n",
      "ic.draw_IC()"
     ],
     "language": "python",
     "metadata": {},
     "outputs": [
      {
       "output_type": "stream",
       "stream": "stdout",
       "text": [
        "\n",
        "\n",
        "              \u250c\u2500\u2500\u2500\u2500\u2500\u2500\u2500\u2500\u2500\u25e1\u2500\u2500\u2500\u2500\u2500\u2500\u2500\u2500\u2500\u2510\n",
        "              \u2502                   \u2502\n",
        "     [Z]    \u2500\u2500\u2524  1            14  \u251c\u2500\u2500    [1] VCC\n",
        "              \u2502                   \u2502\n",
        "              \u2502                   \u2502\n",
        " Inp [0]    \u2500\u2500\u2524  2      4     13  \u251c\u2500\u2500    [0] Out\n",
        "              \u2502                   \u2502\n",
        "              \u2502                   \u2502\n",
        " Inp [0]    \u2500\u2500\u2524  3      0     12  \u251c\u2500\u2500    [0] Inp\n",
        "              \u2502                   \u2502\n",
        "              \u2502                   \u2502\n",
        " Inp [0]    \u2500\u2500\u2524  4      7     11  \u251c\u2500\u2500    [0] Inp\n",
        "              \u2502                   \u2502\n",
        "              \u2502                   \u2502\n",
        " Inp [0]    \u2500\u2500\u2524  5      8     10  \u251c\u2500\u2500    [0] Inp\n",
        "              \u2502                   \u2502\n",
        "              \u2502                   \u2502\n",
        "     [Z]    \u2500\u2500\u2524  6             9  \u251c\u2500\u2500    [0] Inp\n",
        "              \u2502                   \u2502\n",
        "              \u2502                   \u2502\n",
        " GND [0]    \u2500\u2500\u2524  7             8  \u251c\u2500\u2500    [Z]    \n",
        "              \u2502                   \u2502\n",
        "              \u2514\u2500\u2500\u2500\u2500\u2500\u2500\u2500\u2500\u2500\u2500\u2500\u2500\u2500\u2500\u2500\u2500\u2500\u2500\u2500\u2518  \n"
       ]
      }
     ],
     "prompt_number": 3
    },
    {
     "cell_type": "code",
     "collapsed": false,
     "input": [
      "# Run the IC with the current configuration using -- print ic.run() -- \n",
      "\n",
      "# Note that the ic.run() returns a dict of pin configuration similar to \n",
      "\n",
      "print (ic.run())"
     ],
     "language": "python",
     "metadata": {},
     "outputs": [
      {
       "output_type": "stream",
       "stream": "stdout",
       "text": [
        "{13: 1}\n"
       ]
      }
     ],
     "prompt_number": 4
    },
    {
     "cell_type": "code",
     "collapsed": false,
     "input": [
      "# Seting the outputs to the current IC configuration using -- ic.set_IC(ic.run()) --\\n\n",
      "\n",
      "ic.set_IC(ic.run())\n",
      "\n",
      "# Draw the final configuration\n",
      "\n",
      "ic.draw_IC()"
     ],
     "language": "python",
     "metadata": {},
     "outputs": [
      {
       "output_type": "stream",
       "stream": "stdout",
       "text": [
        "\n",
        "\n",
        "              \u250c\u2500\u2500\u2500\u2500\u2500\u2500\u2500\u2500\u2500\u25e1\u2500\u2500\u2500\u2500\u2500\u2500\u2500\u2500\u2500\u2510\n",
        "              \u2502                   \u2502\n",
        "     [Z]    \u2500\u2500\u2524  1            14  \u251c\u2500\u2500    [1] VCC\n",
        "              \u2502                   \u2502\n",
        "              \u2502                   \u2502\n",
        " Inp [0]    \u2500\u2500\u2524  2      4     13  \u251c\u2500\u2500    [1] Out\n",
        "              \u2502                   \u2502\n",
        "              \u2502                   \u2502\n",
        " Inp [0]    \u2500\u2500\u2524  3      0     12  \u251c\u2500\u2500    [0] Inp\n",
        "              \u2502                   \u2502\n",
        "              \u2502                   \u2502\n",
        " Inp [0]    \u2500\u2500\u2524  4      7     11  \u251c\u2500\u2500    [0] Inp\n",
        "              \u2502                   \u2502\n",
        "              \u2502                   \u2502\n",
        " Inp [0]    \u2500\u2500\u2524  5      8     10  \u251c\u2500\u2500    [0] Inp\n",
        "              \u2502                   \u2502\n",
        "              \u2502                   \u2502\n",
        "     [Z]    \u2500\u2500\u2524  6             9  \u251c\u2500\u2500    [0] Inp\n",
        "              \u2502                   \u2502\n",
        "              \u2502                   \u2502\n",
        " GND [0]    \u2500\u2500\u2524  7             8  \u251c\u2500\u2500    [Z]    \n",
        "              \u2502                   \u2502\n",
        "              \u2514\u2500\u2500\u2500\u2500\u2500\u2500\u2500\u2500\u2500\u2500\u2500\u2500\u2500\u2500\u2500\u2500\u2500\u2500\u2500\u2518  \n"
       ]
      }
     ],
     "prompt_number": 5
    },
    {
     "cell_type": "code",
     "collapsed": false,
     "input": [
      "# Seting the outputs to the current IC configuration using -- ic.set_IC(ic.run()) --\n",
      "\n",
      "ic.set_IC(ic.run())\n",
      "\n",
      "# Draw the final configuration\n",
      "\n",
      "ic.draw_IC()\n",
      "\n",
      "# Run the IC\n",
      "\n",
      "print (ic.run())"
     ],
     "language": "python",
     "metadata": {},
     "outputs": [
      {
       "output_type": "stream",
       "stream": "stdout",
       "text": [
        "\n",
        "\n",
        "              \u250c\u2500\u2500\u2500\u2500\u2500\u2500\u2500\u2500\u2500\u25e1\u2500\u2500\u2500\u2500\u2500\u2500\u2500\u2500\u2500\u2510\n",
        "              \u2502                   \u2502\n",
        "     [Z]    \u2500\u2500\u2524  1            14  \u251c\u2500\u2500    [1] VCC\n",
        "              \u2502                   \u2502\n",
        "              \u2502                   \u2502\n",
        " Inp [0]    \u2500\u2500\u2524  2      4     13  \u251c\u2500\u2500    [1] Out\n",
        "              \u2502                   \u2502\n",
        "              \u2502                   \u2502\n",
        " Inp [0]    \u2500\u2500\u2524  3      0     12  \u251c\u2500\u2500    [0] Inp\n",
        "              \u2502                   \u2502\n",
        "              \u2502                   \u2502\n",
        " Inp [0]    \u2500\u2500\u2524  4      7     11  \u251c\u2500\u2500    [0] Inp\n",
        "              \u2502                   \u2502\n",
        "              \u2502                   \u2502\n",
        " Inp [0]    \u2500\u2500\u2524  5      8     10  \u251c\u2500\u2500    [0] Inp\n",
        "              \u2502                   \u2502\n",
        "              \u2502                   \u2502\n",
        "     [Z]    \u2500\u2500\u2524  6             9  \u251c\u2500\u2500    [0] Inp\n",
        "              \u2502                   \u2502\n",
        "              \u2502                   \u2502\n",
        " GND [0]    \u2500\u2500\u2524  7             8  \u251c\u2500\u2500    [Z]    \n",
        "              \u2502                   \u2502\n",
        "              \u2514\u2500\u2500\u2500\u2500\u2500\u2500\u2500\u2500\u2500\u2500\u2500\u2500\u2500\u2500\u2500\u2500\u2500\u2500\u2500\u2518  \n",
        "{13: 1}\n"
       ]
      }
     ],
     "prompt_number": 6
    },
    {
     "cell_type": "code",
     "collapsed": false,
     "input": [
      "# Connector Outputs\n",
      "c = Connector()\n",
      "\n",
      "# Set the output -- ic.set_output(8, c)\n",
      "ic.set_output(13, c)\n",
      "\n",
      "print(c)"
     ],
     "language": "python",
     "metadata": {},
     "outputs": [
      {
       "output_type": "stream",
       "stream": "stdout",
       "text": [
        "Connector; State: 1\n"
       ]
      }
     ],
     "prompt_number": 7
    }
   ],
   "metadata": {}
  }
 ]
}