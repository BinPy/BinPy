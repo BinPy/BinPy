{
 "metadata": {
  "name": "",
  "signature": "sha256:cbce01049848f21f5c133e6688a61038a54f7dc8704305f75e14f77b7ce719e6"
 },
 "nbformat": 3,
 "nbformat_minor": 0,
 "worksheets": [
  {
   "cells": [
    {
     "cell_type": "heading",
     "level": 2,
     "metadata": {},
     "source": [
      "Usage of IC 4072"
     ]
    },
    {
     "cell_type": "code",
     "collapsed": false,
     "input": [
      "from __future__ import print_function\n",
      "from BinPy import *"
     ],
     "language": "python",
     "metadata": {},
     "outputs": [],
     "prompt_number": 1
    },
    {
     "cell_type": "code",
     "collapsed": false,
     "input": [
      "# Usage of IC 4072:\n",
      "\n",
      "ic = IC_4072()\n",
      "\n",
      "print(ic.__doc__)"
     ],
     "language": "python",
     "metadata": {},
     "outputs": [
      {
       "output_type": "stream",
       "stream": "stdout",
       "text": [
        "\n",
        "    Dual 4 input OR gate\n",
        "    Pin_1 = OR(Pin_2, Pin_3, Pin_4, Pin_5)\n",
        "    Pin_13 = OR(Pin_9, Pin_10, Pin_11, Pin_12)\n",
        "    \n"
       ]
      }
     ],
     "prompt_number": 2
    },
    {
     "cell_type": "code",
     "collapsed": false,
     "input": [
      "# The Pin configuration is:\n",
      "\n",
      "inp = {2: 0, 3: 1, 4: 0, 5: 1, 7: 0, 9: 1, 10: 1, 11: 1, 12: 1, 14: 1}\n",
      "\n",
      "# Pin initinalization\n",
      "\n",
      "# Powering up the IC - using -- ic.set_IC({14: 1, 7: 0}) -- \\n\n",
      "\n",
      "ic.set_IC({14: 1, 7: 0})\n",
      "\n",
      "# Setting the inputs of the ic\n",
      "\n",
      "ic.set_IC(inp)\n",
      "\n",
      "# Draw the IC with the current configuration\\n\n",
      "\n",
      "ic.draw_IC()"
     ],
     "language": "python",
     "metadata": {},
     "outputs": [
      {
       "output_type": "stream",
       "stream": "stdout",
       "text": [
        "\n",
        "\n",
        "              \u250c\u2500\u2500\u2500\u2500\u2500\u2500\u2500\u2500\u2500\u25e1\u2500\u2500\u2500\u2500\u2500\u2500\u2500\u2500\u2500\u2510\n",
        "              \u2502                   \u2502\n",
        " Q1: [0]    \u2500\u2500\u2524  1            14  \u251c\u2500\u2500    [1] VCC\n",
        "              \u2502                   \u2502\n",
        "              \u2502                   \u2502\n",
        " A1: [0]    \u2500\u2500\u2524  2      4     13  \u251c\u2500\u2500    [0] Q2:\n",
        "              \u2502                   \u2502\n",
        "              \u2502                   \u2502\n",
        " B1: [1]    \u2500\u2500\u2524  3      0     12  \u251c\u2500\u2500    [1] A2:\n",
        "              \u2502                   \u2502\n",
        "              \u2502                   \u2502\n",
        " C1: [0]    \u2500\u2500\u2524  4      7     11  \u251c\u2500\u2500    [1] B2:\n",
        "              \u2502                   \u2502\n",
        "              \u2502                   \u2502\n",
        " D1: [1]    \u2500\u2500\u2524  5      2     10  \u251c\u2500\u2500    [1] C2:\n",
        "              \u2502                   \u2502\n",
        "              \u2502                   \u2502\n",
        "     [Z]    \u2500\u2500\u2524  6             9  \u251c\u2500\u2500    [1] D2:\n",
        "              \u2502                   \u2502\n",
        "              \u2502                   \u2502\n",
        " GND [0]    \u2500\u2500\u2524  7             8  \u251c\u2500\u2500    [Z]    \n",
        "              \u2502                   \u2502\n",
        "              \u2514\u2500\u2500\u2500\u2500\u2500\u2500\u2500\u2500\u2500\u2500\u2500\u2500\u2500\u2500\u2500\u2500\u2500\u2500\u2500\u2518  \n"
       ]
      }
     ],
     "prompt_number": 3
    },
    {
     "cell_type": "code",
     "collapsed": false,
     "input": [
      "# Run the IC with the current configuration using -- print ic.run() -- \n",
      "\n",
      "# Note that the ic.run() returns a dict of pin configuration similar to \n",
      "\n",
      "print (ic.run())"
     ],
     "language": "python",
     "metadata": {},
     "outputs": [
      {
       "output_type": "stream",
       "stream": "stdout",
       "text": [
        "{1: 1, 13: 1}\n"
       ]
      }
     ],
     "prompt_number": 4
    },
    {
     "cell_type": "code",
     "collapsed": false,
     "input": [
      "# Seting the outputs to the current IC configuration using -- ic.set_IC(ic.run()) --\\n\n",
      "\n",
      "ic.set_IC(ic.run())\n",
      "\n",
      "# Draw the final configuration\n",
      "\n",
      "ic.draw_IC()"
     ],
     "language": "python",
     "metadata": {},
     "outputs": [
      {
       "output_type": "stream",
       "stream": "stdout",
       "text": [
        "\n",
        "\n",
        "              \u250c\u2500\u2500\u2500\u2500\u2500\u2500\u2500\u2500\u2500\u25e1\u2500\u2500\u2500\u2500\u2500\u2500\u2500\u2500\u2500\u2510\n",
        "              \u2502                   \u2502\n",
        " Q1: [1]    \u2500\u2500\u2524  1            14  \u251c\u2500\u2500    [1] VCC\n",
        "              \u2502                   \u2502\n",
        "              \u2502                   \u2502\n",
        " A1: [0]    \u2500\u2500\u2524  2      4     13  \u251c\u2500\u2500    [1] Q2:\n",
        "              \u2502                   \u2502\n",
        "              \u2502                   \u2502\n",
        " B1: [1]    \u2500\u2500\u2524  3      0     12  \u251c\u2500\u2500    [1] A2:\n",
        "              \u2502                   \u2502\n",
        "              \u2502                   \u2502\n",
        " C1: [0]    \u2500\u2500\u2524  4      7     11  \u251c\u2500\u2500    [1] B2:\n",
        "              \u2502                   \u2502\n",
        "              \u2502                   \u2502\n",
        " D1: [1]    \u2500\u2500\u2524  5      2     10  \u251c\u2500\u2500    [1] C2:\n",
        "              \u2502                   \u2502\n",
        "              \u2502                   \u2502\n",
        "     [Z]    \u2500\u2500\u2524  6             9  \u251c\u2500\u2500    [1] D2:\n",
        "              \u2502                   \u2502\n",
        "              \u2502                   \u2502\n",
        " GND [0]    \u2500\u2500\u2524  7             8  \u251c\u2500\u2500    [Z]    \n",
        "              \u2502                   \u2502\n",
        "              \u2514\u2500\u2500\u2500\u2500\u2500\u2500\u2500\u2500\u2500\u2500\u2500\u2500\u2500\u2500\u2500\u2500\u2500\u2500\u2500\u2518  \n"
       ]
      }
     ],
     "prompt_number": 5
    },
    {
     "cell_type": "code",
     "collapsed": false,
     "input": [
      "# Seting the outputs to the current IC configuration using -- ic.set_IC(ic.run()) --\n",
      "\n",
      "ic.set_IC(ic.run())\n",
      "\n",
      "# Draw the final configuration\n",
      "\n",
      "ic.draw_IC()\n",
      "\n",
      "# Run the IC\n",
      "\n",
      "print (ic.run())"
     ],
     "language": "python",
     "metadata": {},
     "outputs": [
      {
       "output_type": "stream",
       "stream": "stdout",
       "text": [
        "\n",
        "\n",
        "              \u250c\u2500\u2500\u2500\u2500\u2500\u2500\u2500\u2500\u2500\u25e1\u2500\u2500\u2500\u2500\u2500\u2500\u2500\u2500\u2500\u2510\n",
        "              \u2502                   \u2502\n",
        " Q1: [1]    \u2500\u2500\u2524  1            14  \u251c\u2500\u2500    [1] VCC\n",
        "              \u2502                   \u2502\n",
        "              \u2502                   \u2502\n",
        " A1: [0]    \u2500\u2500\u2524  2      4     13  \u251c\u2500\u2500    [1] Q2:\n",
        "              \u2502                   \u2502\n",
        "              \u2502                   \u2502\n",
        " B1: [1]    \u2500\u2500\u2524  3      0     12  \u251c\u2500\u2500    [1] A2:\n",
        "              \u2502                   \u2502\n",
        "              \u2502                   \u2502\n",
        " C1: [0]    \u2500\u2500\u2524  4      7     11  \u251c\u2500\u2500    [1] B2:\n",
        "              \u2502                   \u2502\n",
        "              \u2502                   \u2502\n",
        " D1: [1]    \u2500\u2500\u2524  5      2     10  \u251c\u2500\u2500    [1] C2:\n",
        "              \u2502                   \u2502\n",
        "              \u2502                   \u2502\n",
        "     [Z]    \u2500\u2500\u2524  6             9  \u251c\u2500\u2500    [1] D2:\n",
        "              \u2502                   \u2502\n",
        "              \u2502                   \u2502\n",
        " GND [0]    \u2500\u2500\u2524  7             8  \u251c\u2500\u2500    [Z]    \n",
        "              \u2502                   \u2502\n",
        "              \u2514\u2500\u2500\u2500\u2500\u2500\u2500\u2500\u2500\u2500\u2500\u2500\u2500\u2500\u2500\u2500\u2500\u2500\u2500\u2500\u2518  \n",
        "{1: 1, 13: 1}\n"
       ]
      }
     ],
     "prompt_number": 6
    },
    {
     "cell_type": "code",
     "collapsed": false,
     "input": [
      "# Connector Outputs\n",
      "c = Connector()\n",
      "\n",
      "# Set the output connector to a particular pin of the ic\n",
      "ic.set_output(13, c)\n",
      "\n",
      "print(c)"
     ],
     "language": "python",
     "metadata": {},
     "outputs": [
      {
       "output_type": "stream",
       "stream": "stdout",
       "text": [
        "Connector; State: 1\n"
       ]
      }
     ],
     "prompt_number": 7
    }
   ],
   "metadata": {}
  }
 ]
}