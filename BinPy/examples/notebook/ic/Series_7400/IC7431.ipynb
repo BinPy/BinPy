{
 "metadata": {
  "name": "",
  "signature": "sha256:f8e19dca6f40433be75842017e69b68bb2293d904d3398a22e9f33bba110e29d"
 },
 "nbformat": 3,
 "nbformat_minor": 0,
 "worksheets": [
  {
   "cells": [
    {
     "cell_type": "heading",
     "level": 2,
     "metadata": {},
     "source": [
      "Usage of IC 7431"
     ]
    },
    {
     "cell_type": "code",
     "collapsed": false,
     "input": [
      "from __future__ import print_function\n",
      "from BinPy import *"
     ],
     "language": "python",
     "metadata": {},
     "outputs": [],
     "prompt_number": 1
    },
    {
     "cell_type": "code",
     "collapsed": false,
     "input": [
      "# Usage of IC 7431:\n",
      "\n",
      "ic = IC_7431()\n",
      "\n",
      "print(ic.__doc__)"
     ],
     "language": "python",
     "metadata": {},
     "outputs": [
      {
       "output_type": "stream",
       "stream": "stdout",
       "text": [
        "\n",
        "    This is a Hex delay element.\n",
        "    \n"
       ]
      }
     ],
     "prompt_number": 2
    },
    {
     "cell_type": "code",
     "collapsed": false,
     "input": [
      "# The Pin configuration is:\n",
      "\n",
      "inp = {1: 1, 3: 1, 5: 0, 6: 0, 8: 0, 10: 1, 11: 1, 13: 0, 15: 1, 16: 1}\n",
      "\n",
      "# Pin initinalization\n",
      "\n",
      "# Powering up the IC - using -- ic.set_IC({14: 1, 7: 0})\n",
      "\n",
      "ic.set_IC({14: 1, 7: 0})\n",
      "\n",
      "# Setting the inputs of the ic\n",
      "\n",
      "ic.set_IC(inp)\n",
      "\n",
      "# Draw the IC with the current configuration\\n\n",
      "\n",
      "ic.draw_IC()"
     ],
     "language": "python",
     "metadata": {},
     "outputs": [
      {
       "output_type": "stream",
       "stream": "stdout",
       "text": [
        "\n",
        "\n",
        "              \u250c\u2500\u2500\u2500\u2500\u2500\u2500\u2500\u2500\u2500\u25e1\u2500\u2500\u2500\u2500\u2500\u2500\u2500\u2500\u2500\u2510\n",
        "              \u2502                   \u2502\n",
        "     [1]    \u2500\u2500\u2524  1            16  \u251c\u2500\u2500    [1]    \n",
        "              \u2502                   \u2502\n",
        "              \u2502                   \u2502\n",
        "     [Z]    \u2500\u2500\u2524  2      7     15  \u251c\u2500\u2500    [1]    \n",
        "              \u2502                   \u2502\n",
        "              \u2502                   \u2502\n",
        "     [1]    \u2500\u2500\u2524  3      4     14  \u251c\u2500\u2500    [1]    \n",
        "              \u2502                   \u2502\n",
        "              \u2502                   \u2502\n",
        "     [Z]    \u2500\u2500\u2524  4      3     13  \u251c\u2500\u2500    [0]    \n",
        "              \u2502                   \u2502\n",
        "              \u2502                   \u2502\n",
        "     [0]    \u2500\u2500\u2524  5      1     12  \u251c\u2500\u2500    [Z]    \n",
        "              \u2502                   \u2502\n",
        "              \u2502                   \u2502\n",
        "     [0]    \u2500\u2500\u2524  6            11  \u251c\u2500\u2500    [1]    \n",
        "              \u2502                   \u2502\n",
        "              \u2502                   \u2502\n",
        "     [0]    \u2500\u2500\u2524  7            10  \u251c\u2500\u2500    [1]    \n",
        "              \u2502                   \u2502\n",
        "              \u2502                   \u2502\n",
        "     [0]    \u2500\u2500\u2524  8             9  \u251c\u2500\u2500    [Z]    \n",
        "              \u2502                   \u2502\n",
        "              \u2514\u2500\u2500\u2500\u2500\u2500\u2500\u2500\u2500\u2500\u2500\u2500\u2500\u2500\u2500\u2500\u2500\u2500\u2500\u2500\u2518  \n"
       ]
      }
     ],
     "prompt_number": 3
    },
    {
     "cell_type": "code",
     "collapsed": false,
     "input": [
      "# Run the IC with the current configuration using -- print ic.run() -- \n",
      "\n",
      "# Note that the ic.run() returns a dict of pin configuration similar to \n",
      "\n",
      "print (ic.run())"
     ],
     "language": "python",
     "metadata": {},
     "outputs": [
      {
       "output_type": "stream",
       "stream": "stdout",
       "text": [
        "{2: 0, 4: 1, 7: 1, 9: 0, 12: 0, 14: 0}\n"
       ]
      }
     ],
     "prompt_number": 4
    },
    {
     "cell_type": "code",
     "collapsed": false,
     "input": [
      "# Seting the outputs to the current IC configuration using -- ic.set_IC(ic.run()) --\\n\n",
      "\n",
      "ic.set_IC(ic.run())\n",
      "\n",
      "# Draw the final configuration\n",
      "\n",
      "ic.draw_IC()"
     ],
     "language": "python",
     "metadata": {},
     "outputs": [
      {
       "output_type": "stream",
       "stream": "stdout",
       "text": [
        "\n",
        "\n",
        "              \u250c\u2500\u2500\u2500\u2500\u2500\u2500\u2500\u2500\u2500\u25e1\u2500\u2500\u2500\u2500\u2500\u2500\u2500\u2500\u2500\u2510\n",
        "              \u2502                   \u2502\n",
        "     [1]    \u2500\u2500\u2524  1            16  \u251c\u2500\u2500    [1]    \n",
        "              \u2502                   \u2502\n",
        "              \u2502                   \u2502\n",
        "     [0]    \u2500\u2500\u2524  2      7     15  \u251c\u2500\u2500    [1]    \n",
        "              \u2502                   \u2502\n",
        "              \u2502                   \u2502\n",
        "     [1]    \u2500\u2500\u2524  3      4     14  \u251c\u2500\u2500    [0]    \n",
        "              \u2502                   \u2502\n",
        "              \u2502                   \u2502\n",
        "     [1]    \u2500\u2500\u2524  4      3     13  \u251c\u2500\u2500    [0]    \n",
        "              \u2502                   \u2502\n",
        "              \u2502                   \u2502\n",
        "     [0]    \u2500\u2500\u2524  5      1     12  \u251c\u2500\u2500    [0]    \n",
        "              \u2502                   \u2502\n",
        "              \u2502                   \u2502\n",
        "     [0]    \u2500\u2500\u2524  6            11  \u251c\u2500\u2500    [1]    \n",
        "              \u2502                   \u2502\n",
        "              \u2502                   \u2502\n",
        "     [1]    \u2500\u2500\u2524  7            10  \u251c\u2500\u2500    [1]    \n",
        "              \u2502                   \u2502\n",
        "              \u2502                   \u2502\n",
        "     [0]    \u2500\u2500\u2524  8             9  \u251c\u2500\u2500    [0]    \n",
        "              \u2502                   \u2502\n",
        "              \u2514\u2500\u2500\u2500\u2500\u2500\u2500\u2500\u2500\u2500\u2500\u2500\u2500\u2500\u2500\u2500\u2500\u2500\u2500\u2500\u2518  \n"
       ]
      }
     ],
     "prompt_number": 5
    },
    {
     "cell_type": "code",
     "collapsed": false,
     "input": [
      "# Seting the outputs to the current IC configuration using -- ic.set_IC(ic.run()) --\n",
      "\n",
      "ic.set_IC(ic.run())\n",
      "\n",
      "# Draw the final configuration\n",
      "\n",
      "ic.draw_IC()\n",
      "\n",
      "# Run the IC\n",
      "\n",
      "print (ic.run())"
     ],
     "language": "python",
     "metadata": {},
     "outputs": [
      {
       "output_type": "stream",
       "stream": "stdout",
       "text": [
        "\n",
        "\n",
        "              \u250c\u2500\u2500\u2500\u2500\u2500\u2500\u2500\u2500\u2500\u25e1\u2500\u2500\u2500\u2500\u2500\u2500\u2500\u2500\u2500\u2510\n",
        "              \u2502                   \u2502\n",
        "     [1]    \u2500\u2500\u2524  1            16  \u251c\u2500\u2500    [1]    \n",
        "              \u2502                   \u2502\n",
        "              \u2502                   \u2502\n",
        "     [0]    \u2500\u2500\u2524  2      7     15  \u251c\u2500\u2500    [1]    \n",
        "              \u2502                   \u2502\n",
        "              \u2502                   \u2502\n",
        "     [1]    \u2500\u2500\u2524  3      4     14  \u251c\u2500\u2500    [0]    \n",
        "              \u2502                   \u2502\n",
        "              \u2502                   \u2502\n",
        "     [1]    \u2500\u2500\u2524  4      3     13  \u251c\u2500\u2500    [0]    \n",
        "              \u2502                   \u2502\n",
        "              \u2502                   \u2502\n",
        "     [0]    \u2500\u2500\u2524  5      1     12  \u251c\u2500\u2500    [0]    \n",
        "              \u2502                   \u2502\n",
        "              \u2502                   \u2502\n",
        "     [0]    \u2500\u2500\u2524  6            11  \u251c\u2500\u2500    [1]    \n",
        "              \u2502                   \u2502\n",
        "              \u2502                   \u2502\n",
        "     [1]    \u2500\u2500\u2524  7            10  \u251c\u2500\u2500    [1]    \n",
        "              \u2502                   \u2502\n",
        "              \u2502                   \u2502\n",
        "     [0]    \u2500\u2500\u2524  8             9  \u251c\u2500\u2500    [0]    \n",
        "              \u2502                   \u2502\n",
        "              \u2514\u2500\u2500\u2500\u2500\u2500\u2500\u2500\u2500\u2500\u2500\u2500\u2500\u2500\u2500\u2500\u2500\u2500\u2500\u2500\u2518  \n",
        "{2: 0, 4: 1, 7: 1, 9: 0, 12: 0, 14: 0}\n"
       ]
      }
     ],
     "prompt_number": 6
    },
    {
     "cell_type": "code",
     "collapsed": false,
     "input": [
      "# Connector Outputs\n",
      "c = Connector()\n",
      "\n",
      "# Set the output connector to a particular pin of the ic\n",
      "ic.set_output(9, c)\n",
      "\n",
      "print(c)"
     ],
     "language": "python",
     "metadata": {},
     "outputs": [
      {
       "output_type": "stream",
       "stream": "stdout",
       "text": [
        "Connector; State: 0\n"
       ]
      }
     ],
     "prompt_number": 7
    }
   ],
   "metadata": {}
  }
 ]
}