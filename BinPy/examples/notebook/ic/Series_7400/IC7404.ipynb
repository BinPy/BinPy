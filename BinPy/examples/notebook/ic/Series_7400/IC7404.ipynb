{
 "metadata": {
  "name": "",
  "signature": "sha256:49b51de7bd894b7f8e318c49f994d381630f22f2e7829d7ea50eadc77a5b7b85"
 },
 "nbformat": 3,
 "nbformat_minor": 0,
 "worksheets": [
  {
   "cells": [
    {
     "cell_type": "heading",
     "level": 2,
     "metadata": {},
     "source": [
      "Usage of IC 7404"
     ]
    },
    {
     "cell_type": "code",
     "collapsed": false,
     "input": [
      "from __future__ import print_function\n",
      "from BinPy import *"
     ],
     "language": "python",
     "metadata": {},
     "outputs": [],
     "prompt_number": 1
    },
    {
     "cell_type": "code",
     "collapsed": false,
     "input": [
      "# Usage of IC 7404:\n",
      "\n",
      "ic = IC_7404()\n",
      "\n",
      "print(ic.__doc__)"
     ],
     "language": "python",
     "metadata": {},
     "outputs": [
      {
       "output_type": "stream",
       "stream": "stdout",
       "text": [
        "\n",
        "    This is a hex inverter IC\n",
        "\n",
        "    Pin Number\tDescription\n",
        "        1\tA Input Gate 1\n",
        "        2\tY Output Gate 1\n",
        "        3\tA Input Gate 2\n",
        "        4\tY Output Gate 2\n",
        "        5\tA Input Gate 3\n",
        "        6\tY Output Gate 3\n",
        "        7\tGround\n",
        "        8\tY Output Gate 4\n",
        "        9\tA Input Gate 4\n",
        "        10\tY Output Gate 5\n",
        "        11\tA Input Gate 5\n",
        "        12\tY Output Gate 6\n",
        "        13\tA Input Gate 6\n",
        "        14\tPositive Supply\n",
        "\n",
        "    This class needs 14 parameters. Each parameter being the pin value. The input has to be defined as a dictionary\n",
        "    with pin number as the key and its value being either 1 or 0\n",
        "\n",
        "    To initialise the ic 7404:\n",
        "        1. set pin 7:0\n",
        "        2. set pin 14:1\n",
        "\n",
        "    How to use:\n",
        "\n",
        "        >>> ic = IC_7404()\n",
        "        >>> pin_config = {1: 1, 3: 0, 5: 0, 7: 0, 9: 0, 11: 0, 13: 1, 14: 1}\n",
        "        >>> ic.set_IC(pin_cofig)\n",
        "        >>> ic.draw_IC()\n",
        "        >>> ic.run()\n",
        "        >>> ic.set_IC(ic.run())\n",
        "        >>> ic.draw_IC()\n",
        "\n",
        "    Default pins:\n",
        "        pins = [None,0,0,None,0,0,None,0,None,0,0,None,0,0,0]\n",
        "\n",
        "    \n"
       ]
      }
     ],
     "prompt_number": 2
    },
    {
     "cell_type": "code",
     "collapsed": false,
     "input": [
      "# The Pin configuration is:\n",
      "\n",
      "inp = {1: 1, 3: 0, 5: 0, 7: 0, 9: 0, 11: 0, 13: 1, 14: 1}\n",
      "\n",
      "# Pin initinalization\n",
      "\n",
      "# Powering up the IC - using -- ic.set_IC({14: 1, 7: 0})\n",
      "\n",
      "ic.set_IC({14: 1, 7: 0})\n",
      "\n",
      "# Setting the inputs of the ic\n",
      "\n",
      "ic.set_IC(inp)\n",
      "\n",
      "# Draw the IC with the current configuration\\n\n",
      "\n",
      "ic.draw_IC()"
     ],
     "language": "python",
     "metadata": {},
     "outputs": [
      {
       "output_type": "stream",
       "stream": "stdout",
       "text": [
        "\n",
        "\n",
        "              \u250c\u2500\u2500\u2500\u2500\u2500\u2500\u2500\u2500\u2500\u25e1\u2500\u2500\u2500\u2500\u2500\u2500\u2500\u2500\u2500\u2510\n",
        "              \u2502                   \u2502\n",
        "     [1]    \u2500\u2500\u2524  1            14  \u251c\u2500\u2500    [1]    \n",
        "              \u2502                   \u2502\n",
        "              \u2502                   \u2502\n",
        "     [Z]    \u2500\u2500\u2524  2      7     13  \u251c\u2500\u2500    [1]    \n",
        "              \u2502                   \u2502\n",
        "              \u2502                   \u2502\n",
        "     [0]    \u2500\u2500\u2524  3      4     12  \u251c\u2500\u2500    [Z]    \n",
        "              \u2502                   \u2502\n",
        "              \u2502                   \u2502\n",
        "     [Z]    \u2500\u2500\u2524  4      0     11  \u251c\u2500\u2500    [0]    \n",
        "              \u2502                   \u2502\n",
        "              \u2502                   \u2502\n",
        "     [0]    \u2500\u2500\u2524  5      4     10  \u251c\u2500\u2500    [Z]    \n",
        "              \u2502                   \u2502\n",
        "              \u2502                   \u2502\n",
        "     [Z]    \u2500\u2500\u2524  6             9  \u251c\u2500\u2500    [0]    \n",
        "              \u2502                   \u2502\n",
        "              \u2502                   \u2502\n",
        "     [0]    \u2500\u2500\u2524  7             8  \u251c\u2500\u2500    [Z]    \n",
        "              \u2502                   \u2502\n",
        "              \u2514\u2500\u2500\u2500\u2500\u2500\u2500\u2500\u2500\u2500\u2500\u2500\u2500\u2500\u2500\u2500\u2500\u2500\u2500\u2500\u2518  \n"
       ]
      }
     ],
     "prompt_number": 3
    },
    {
     "cell_type": "code",
     "collapsed": false,
     "input": [
      "# Run the IC with the current configuration using -- print ic.run() -- \n",
      "\n",
      "# Note that the ic.run() returns a dict of pin configuration similar to \n",
      "\n",
      "print (ic.run())"
     ],
     "language": "python",
     "metadata": {},
     "outputs": [
      {
       "output_type": "stream",
       "stream": "stdout",
       "text": [
        "{2: 0, 4: 1, 6: 1, 8: 1, 10: 1, 12: 0}\n"
       ]
      }
     ],
     "prompt_number": 4
    },
    {
     "cell_type": "code",
     "collapsed": false,
     "input": [
      "# Seting the outputs to the current IC configuration using -- ic.set_IC(ic.run()) --\\n\n",
      "\n",
      "ic.set_IC(ic.run())\n",
      "\n",
      "# Draw the final configuration\n",
      "\n",
      "ic.draw_IC()"
     ],
     "language": "python",
     "metadata": {},
     "outputs": [
      {
       "output_type": "stream",
       "stream": "stdout",
       "text": [
        "\n",
        "\n",
        "              \u250c\u2500\u2500\u2500\u2500\u2500\u2500\u2500\u2500\u2500\u25e1\u2500\u2500\u2500\u2500\u2500\u2500\u2500\u2500\u2500\u2510\n",
        "              \u2502                   \u2502\n",
        "     [1]    \u2500\u2500\u2524  1            14  \u251c\u2500\u2500    [1]    \n",
        "              \u2502                   \u2502\n",
        "              \u2502                   \u2502\n",
        "     [0]    \u2500\u2500\u2524  2      7     13  \u251c\u2500\u2500    [1]    \n",
        "              \u2502                   \u2502\n",
        "              \u2502                   \u2502\n",
        "     [0]    \u2500\u2500\u2524  3      4     12  \u251c\u2500\u2500    [0]    \n",
        "              \u2502                   \u2502\n",
        "              \u2502                   \u2502\n",
        "     [1]    \u2500\u2500\u2524  4      0     11  \u251c\u2500\u2500    [0]    \n",
        "              \u2502                   \u2502\n",
        "              \u2502                   \u2502\n",
        "     [0]    \u2500\u2500\u2524  5      4     10  \u251c\u2500\u2500    [1]    \n",
        "              \u2502                   \u2502\n",
        "              \u2502                   \u2502\n",
        "     [1]    \u2500\u2500\u2524  6             9  \u251c\u2500\u2500    [0]    \n",
        "              \u2502                   \u2502\n",
        "              \u2502                   \u2502\n",
        "     [0]    \u2500\u2500\u2524  7             8  \u251c\u2500\u2500    [1]    \n",
        "              \u2502                   \u2502\n",
        "              \u2514\u2500\u2500\u2500\u2500\u2500\u2500\u2500\u2500\u2500\u2500\u2500\u2500\u2500\u2500\u2500\u2500\u2500\u2500\u2500\u2518  \n"
       ]
      }
     ],
     "prompt_number": 5
    },
    {
     "cell_type": "code",
     "collapsed": false,
     "input": [
      "# Seting the outputs to the current IC configuration using -- ic.set_IC(ic.run()) --\n",
      "\n",
      "ic.set_IC(ic.run())\n",
      "\n",
      "# Draw the final configuration\n",
      "\n",
      "ic.draw_IC()\n",
      "\n",
      "# Run the IC\n",
      "\n",
      "print (ic.run())"
     ],
     "language": "python",
     "metadata": {},
     "outputs": [
      {
       "output_type": "stream",
       "stream": "stdout",
       "text": [
        "\n",
        "\n",
        "              \u250c\u2500\u2500\u2500\u2500\u2500\u2500\u2500\u2500\u2500\u25e1\u2500\u2500\u2500\u2500\u2500\u2500\u2500\u2500\u2500\u2510\n",
        "              \u2502                   \u2502\n",
        "     [1]    \u2500\u2500\u2524  1            14  \u251c\u2500\u2500    [1]    \n",
        "              \u2502                   \u2502\n",
        "              \u2502                   \u2502\n",
        "     [0]    \u2500\u2500\u2524  2      7     13  \u251c\u2500\u2500    [1]    \n",
        "              \u2502                   \u2502\n",
        "              \u2502                   \u2502\n",
        "     [0]    \u2500\u2500\u2524  3      4     12  \u251c\u2500\u2500    [0]    \n",
        "              \u2502                   \u2502\n",
        "              \u2502                   \u2502\n",
        "     [1]    \u2500\u2500\u2524  4      0     11  \u251c\u2500\u2500    [0]    \n",
        "              \u2502                   \u2502\n",
        "              \u2502                   \u2502\n",
        "     [0]    \u2500\u2500\u2524  5      4     10  \u251c\u2500\u2500    [1]    \n",
        "              \u2502                   \u2502\n",
        "              \u2502                   \u2502\n",
        "     [1]    \u2500\u2500\u2524  6             9  \u251c\u2500\u2500    [0]    \n",
        "              \u2502                   \u2502\n",
        "              \u2502                   \u2502\n",
        "     [0]    \u2500\u2500\u2524  7             8  \u251c\u2500\u2500    [1]    \n",
        "              \u2502                   \u2502\n",
        "              \u2514\u2500\u2500\u2500\u2500\u2500\u2500\u2500\u2500\u2500\u2500\u2500\u2500\u2500\u2500\u2500\u2500\u2500\u2500\u2500\u2518  \n",
        "{2: 0, 4: 1, 6: 1, 8: 1, 10: 1, 12: 0}\n"
       ]
      }
     ],
     "prompt_number": 6
    },
    {
     "cell_type": "code",
     "collapsed": false,
     "input": [
      "# Connector Outputs\n",
      "c = Connector()\n",
      "\n",
      "# Set the output connector to a particular pin of the ic\n",
      "ic.set_output(8, c)\n",
      "\n",
      "print(c)"
     ],
     "language": "python",
     "metadata": {},
     "outputs": [
      {
       "output_type": "stream",
       "stream": "stdout",
       "text": [
        "Connector; State: 1\n"
       ]
      }
     ],
     "prompt_number": 7
    }
   ],
   "metadata": {}
  }
 ]
}