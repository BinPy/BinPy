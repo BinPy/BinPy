{
 "metadata": {
  "name": "",
  "signature": "sha256:32a298b749748345116337340c489d205f9fd381bcbea7879fd6ac867f81bb42"
 },
 "nbformat": 3,
 "nbformat_minor": 0,
 "worksheets": [
  {
   "cells": [
    {
     "cell_type": "heading",
     "level": 2,
     "metadata": {},
     "source": [
      "Usage of IC 7412"
     ]
    },
    {
     "cell_type": "code",
     "collapsed": false,
     "input": [
      "from __future__ import print_function\n",
      "from BinPy import *"
     ],
     "language": "python",
     "metadata": {},
     "outputs": [],
     "prompt_number": 1
    },
    {
     "cell_type": "code",
     "collapsed": false,
     "input": [
      "# Usage of IC 7412:\n",
      "\n",
      "ic = IC_7412()\n",
      "\n",
      "print(ic.__doc__)"
     ],
     "language": "python",
     "metadata": {},
     "outputs": [
      {
       "output_type": "stream",
       "stream": "stdout",
       "text": [
        "\n",
        "    This is a Triple 3 input NAND gate IC with open collector outputs\n",
        "\n",
        "    Pin Number\tDescription\n",
        "        1\tA Input Gate 1\n",
        "        2\tB Input Gate 1\n",
        "        3\tA Input Gate 2\n",
        "        4\tB Input Gate 2\n",
        "        5\tC Input gate 2\n",
        "        6\tY Output Gate 2\n",
        "        7\tGround\n",
        "        8\tY Output Gate 3\n",
        "        9\tA Input Case 3\n",
        "        10\tB Input Case 3\n",
        "        11\tC Input Case 3\n",
        "        12\tY Output Gate 1\n",
        "        13\tC Input Gate 1\n",
        "        14\tPositive Supply\n",
        "\n",
        "\n",
        "    This class needs 14 parameters. Each parameter being the pin value. The input has to be defined as a dictionary\n",
        "    with pin number as the key and its value being either 1 or 0\n",
        "\n",
        "    To initialise the ic 7412:\n",
        "        1. set pin 7:0\n",
        "        2. set pin 14:1\n",
        "\n",
        "    How to use:\n",
        "\n",
        "        >>> ic = IC_7412()\n",
        "        >>> pin_config = {1: 1, 2: 0, 3: 0, 4: 0, 5: 0, 7: 0, 9: 1, 10: 1, 11: 1, 13: 0, 14: 1}\n",
        "        >>> ic.set_IC(pin_cofig)\n",
        "        >>> ic.draw_IC()\n",
        "        >>> ic.run()\n",
        "        >>> ic.set_IC(ic.run())\n",
        "        >>> ic.draw_IC()\n",
        "\n",
        "    Default pins:\n",
        "        pins = [None,0,0,0,0,0,None,0,None,0,0,0,None,0,0]\n",
        "\n",
        "    \n"
       ]
      }
     ],
     "prompt_number": 2
    },
    {
     "cell_type": "code",
     "collapsed": false,
     "input": [
      "# The Pin configuration is:\n",
      "\n",
      "inp = {1: 1, 2: 0, 3: 0, 4: 0, 5: 0, 7: 0, 9: 1, 10: 1, 11: 1, 13: 0, 14: 1}\n",
      "\n",
      "# Pin initinalization\n",
      "\n",
      "# Powering up the IC - using -- ic.set_IC({14: 1, 7: 0})\n",
      "\n",
      "ic.set_IC({14: 1, 7: 0})\n",
      "\n",
      "# Setting the inputs of the ic\n",
      "\n",
      "ic.set_IC(inp)\n",
      "\n",
      "# Draw the IC with the current configuration\\n\n",
      "\n",
      "ic.draw_IC()"
     ],
     "language": "python",
     "metadata": {},
     "outputs": [
      {
       "output_type": "stream",
       "stream": "stdout",
       "text": [
        "\n",
        "\n",
        "              \u250c\u2500\u2500\u2500\u2500\u2500\u2500\u2500\u2500\u2500\u25e1\u2500\u2500\u2500\u2500\u2500\u2500\u2500\u2500\u2500\u2510\n",
        "              \u2502                   \u2502\n",
        "     [1]    \u2500\u2500\u2524  1            14  \u251c\u2500\u2500    [1]    \n",
        "              \u2502                   \u2502\n",
        "              \u2502                   \u2502\n",
        "     [0]    \u2500\u2500\u2524  2      7     13  \u251c\u2500\u2500    [0]    \n",
        "              \u2502                   \u2502\n",
        "              \u2502                   \u2502\n",
        "     [0]    \u2500\u2500\u2524  3      4     12  \u251c\u2500\u2500    [Z]    \n",
        "              \u2502                   \u2502\n",
        "              \u2502                   \u2502\n",
        "     [0]    \u2500\u2500\u2524  4      1     11  \u251c\u2500\u2500    [1]    \n",
        "              \u2502                   \u2502\n",
        "              \u2502                   \u2502\n",
        "     [0]    \u2500\u2500\u2524  5      2     10  \u251c\u2500\u2500    [1]    \n",
        "              \u2502                   \u2502\n",
        "              \u2502                   \u2502\n",
        "     [Z]    \u2500\u2500\u2524  6             9  \u251c\u2500\u2500    [1]    \n",
        "              \u2502                   \u2502\n",
        "              \u2502                   \u2502\n",
        "     [0]    \u2500\u2500\u2524  7             8  \u251c\u2500\u2500    [Z]    \n",
        "              \u2502                   \u2502\n",
        "              \u2514\u2500\u2500\u2500\u2500\u2500\u2500\u2500\u2500\u2500\u2500\u2500\u2500\u2500\u2500\u2500\u2500\u2500\u2500\u2500\u2518  \n"
       ]
      }
     ],
     "prompt_number": 3
    },
    {
     "cell_type": "code",
     "collapsed": false,
     "input": [
      "# Run the IC with the current configuration using -- print ic.run() -- \n",
      "\n",
      "# Note that the ic.run() returns a dict of pin configuration similar to \n",
      "\n",
      "print (ic.run())"
     ],
     "language": "python",
     "metadata": {},
     "outputs": [
      {
       "output_type": "stream",
       "stream": "stdout",
       "text": [
        "{8: 0, 12: 1, 6: 1}\n"
       ]
      }
     ],
     "prompt_number": 4
    },
    {
     "cell_type": "code",
     "collapsed": false,
     "input": [
      "# Seting the outputs to the current IC configuration using -- ic.set_IC(ic.run()) --\\n\n",
      "\n",
      "ic.set_IC(ic.run())\n",
      "\n",
      "# Draw the final configuration\n",
      "\n",
      "ic.draw_IC()"
     ],
     "language": "python",
     "metadata": {},
     "outputs": [
      {
       "output_type": "stream",
       "stream": "stdout",
       "text": [
        "\n",
        "\n",
        "              \u250c\u2500\u2500\u2500\u2500\u2500\u2500\u2500\u2500\u2500\u25e1\u2500\u2500\u2500\u2500\u2500\u2500\u2500\u2500\u2500\u2510\n",
        "              \u2502                   \u2502\n",
        "     [1]    \u2500\u2500\u2524  1            14  \u251c\u2500\u2500    [1]    \n",
        "              \u2502                   \u2502\n",
        "              \u2502                   \u2502\n",
        "     [0]    \u2500\u2500\u2524  2      7     13  \u251c\u2500\u2500    [0]    \n",
        "              \u2502                   \u2502\n",
        "              \u2502                   \u2502\n",
        "     [0]    \u2500\u2500\u2524  3      4     12  \u251c\u2500\u2500    [1]    \n",
        "              \u2502                   \u2502\n",
        "              \u2502                   \u2502\n",
        "     [0]    \u2500\u2500\u2524  4      1     11  \u251c\u2500\u2500    [1]    \n",
        "              \u2502                   \u2502\n",
        "              \u2502                   \u2502\n",
        "     [0]    \u2500\u2500\u2524  5      2     10  \u251c\u2500\u2500    [1]    \n",
        "              \u2502                   \u2502\n",
        "              \u2502                   \u2502\n",
        "     [1]    \u2500\u2500\u2524  6             9  \u251c\u2500\u2500    [1]    \n",
        "              \u2502                   \u2502\n",
        "              \u2502                   \u2502\n",
        "     [0]    \u2500\u2500\u2524  7             8  \u251c\u2500\u2500    [0]    \n",
        "              \u2502                   \u2502\n",
        "              \u2514\u2500\u2500\u2500\u2500\u2500\u2500\u2500\u2500\u2500\u2500\u2500\u2500\u2500\u2500\u2500\u2500\u2500\u2500\u2500\u2518  \n"
       ]
      }
     ],
     "prompt_number": 5
    },
    {
     "cell_type": "code",
     "collapsed": false,
     "input": [
      "# Seting the outputs to the current IC configuration using -- ic.set_IC(ic.run()) --\n",
      "\n",
      "ic.set_IC(ic.run())\n",
      "\n",
      "# Draw the final configuration\n",
      "\n",
      "ic.draw_IC()\n",
      "\n",
      "# Run the IC\n",
      "\n",
      "print (ic.run())"
     ],
     "language": "python",
     "metadata": {},
     "outputs": [
      {
       "output_type": "stream",
       "stream": "stdout",
       "text": [
        "\n",
        "\n",
        "              \u250c\u2500\u2500\u2500\u2500\u2500\u2500\u2500\u2500\u2500\u25e1\u2500\u2500\u2500\u2500\u2500\u2500\u2500\u2500\u2500\u2510\n",
        "              \u2502                   \u2502\n",
        "     [1]    \u2500\u2500\u2524  1            14  \u251c\u2500\u2500    [1]    \n",
        "              \u2502                   \u2502\n",
        "              \u2502                   \u2502\n",
        "     [0]    \u2500\u2500\u2524  2      7     13  \u251c\u2500\u2500    [0]    \n",
        "              \u2502                   \u2502\n",
        "              \u2502                   \u2502\n",
        "     [0]    \u2500\u2500\u2524  3      4     12  \u251c\u2500\u2500    [1]    \n",
        "              \u2502                   \u2502\n",
        "              \u2502                   \u2502\n",
        "     [0]    \u2500\u2500\u2524  4      1     11  \u251c\u2500\u2500    [1]    \n",
        "              \u2502                   \u2502\n",
        "              \u2502                   \u2502\n",
        "     [0]    \u2500\u2500\u2524  5      2     10  \u251c\u2500\u2500    [1]    \n",
        "              \u2502                   \u2502\n",
        "              \u2502                   \u2502\n",
        "     [1]    \u2500\u2500\u2524  6             9  \u251c\u2500\u2500    [1]    \n",
        "              \u2502                   \u2502\n",
        "              \u2502                   \u2502\n",
        "     [0]    \u2500\u2500\u2524  7             8  \u251c\u2500\u2500    [0]    \n",
        "              \u2502                   \u2502\n",
        "              \u2514\u2500\u2500\u2500\u2500\u2500\u2500\u2500\u2500\u2500\u2500\u2500\u2500\u2500\u2500\u2500\u2500\u2500\u2500\u2500\u2518  \n",
        "{8: 0, 12: 1, 6: 1}\n"
       ]
      }
     ],
     "prompt_number": 6
    },
    {
     "cell_type": "code",
     "collapsed": false,
     "input": [
      "# Connector Outputs\n",
      "c = Connector()\n",
      "\n",
      "# Set the output connector to a particular pin of the ic\n",
      "ic.set_output(8, c)\n",
      "\n",
      "print(c)"
     ],
     "language": "python",
     "metadata": {},
     "outputs": [
      {
       "output_type": "stream",
       "stream": "stdout",
       "text": [
        "Connector; State: 0\n"
       ]
      }
     ],
     "prompt_number": 7
    }
   ],
   "metadata": {}
  }
 ]
}