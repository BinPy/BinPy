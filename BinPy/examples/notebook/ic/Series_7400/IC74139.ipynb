{
 "metadata": {
  "name": "",
  "signature": "sha256:d0f5cd02b4b3b5b2a6ac0c5ce8db89d3fc98399bbc35dc3dc1a014a2ef84c016"
 },
 "nbformat": 3,
 "nbformat_minor": 0,
 "worksheets": [
  {
   "cells": [
    {
     "cell_type": "heading",
     "level": 2,
     "metadata": {},
     "source": [
      "Usage of IC 74139"
     ]
    },
    {
     "cell_type": "code",
     "collapsed": false,
     "input": [
      "from __future__ import print_function\n",
      "from BinPy import *"
     ],
     "language": "python",
     "metadata": {},
     "outputs": [],
     "prompt_number": 1
    },
    {
     "cell_type": "code",
     "collapsed": false,
     "input": [
      "# Usage of IC 74139:\n",
      "\n",
      "ic = IC_74139()\n",
      "\n",
      "print(ic.__doc__)"
     ],
     "language": "python",
     "metadata": {},
     "outputs": [
      {
       "output_type": "stream",
       "stream": "stdout",
       "text": [
        "\n",
        "    This is a dual 1:4 demultiplexer(2:4 decoder) with output being inverted input\n",
        "    \n"
       ]
      }
     ],
     "prompt_number": 2
    },
    {
     "cell_type": "code",
     "collapsed": false,
     "input": [
      "# The Pin configuration is:\n",
      "\n",
      "inp = {1: 0, 2: 0, 3: 0, 14: 0, 13: 1, 15: 0}\n",
      "\n",
      "# Pin initinalization\n",
      "\n",
      "# Powering up the IC - using -- ic.set_IC({14: 1, 7: 0})\n",
      "\n",
      "ic.set_IC({16: 1, 8: 0})\n",
      "\n",
      "# Setting the inputs of the ic\n",
      "\n",
      "ic.set_IC(inp)\n",
      "\n",
      "# Draw the IC with the current configuration\\n\n",
      "\n",
      "ic.draw_IC()"
     ],
     "language": "python",
     "metadata": {},
     "outputs": [
      {
       "output_type": "stream",
       "stream": "stdout",
       "text": [
        "\n",
        "\n",
        "              \u250c\u2500\u2500\u2500\u2500\u2500\u2500\u2500\u2500\u2500\u25e1\u2500\u2500\u2500\u2500\u2500\u2500\u2500\u2500\u2500\u2510\n",
        "              \u2502                   \u2502\n",
        "     [0]    \u2500\u2500\u2524  1            16  \u251c\u2500\u2500    [1]    \n",
        "              \u2502                   \u2502\n",
        "              \u2502                   \u2502\n",
        "     [0]    \u2500\u2500\u2524  2      7     15  \u251c\u2500\u2500    [0]    \n",
        "              \u2502                   \u2502\n",
        "              \u2502                   \u2502\n",
        "     [0]    \u2500\u2500\u2524  3      4     14  \u251c\u2500\u2500    [0]    \n",
        "              \u2502                   \u2502\n",
        "              \u2502                   \u2502\n",
        "     [Z]    \u2500\u2500\u2524  4      1     13  \u251c\u2500\u2500    [1]    \n",
        "              \u2502                   \u2502\n",
        "              \u2502                   \u2502\n",
        "     [Z]    \u2500\u2500\u2524  5      3     12  \u251c\u2500\u2500    [Z]    \n",
        "              \u2502                   \u2502\n",
        "              \u2502                   \u2502\n",
        "     [Z]    \u2500\u2500\u2524  6      9     11  \u251c\u2500\u2500    [Z]    \n",
        "              \u2502                   \u2502\n",
        "              \u2502                   \u2502\n",
        "     [Z]    \u2500\u2500\u2524  7            10  \u251c\u2500\u2500    [Z]    \n",
        "              \u2502                   \u2502\n",
        "              \u2502                   \u2502\n",
        "     [0]    \u2500\u2500\u2524  8             9  \u251c\u2500\u2500    [Z]    \n",
        "              \u2502                   \u2502\n",
        "              \u2514\u2500\u2500\u2500\u2500\u2500\u2500\u2500\u2500\u2500\u2500\u2500\u2500\u2500\u2500\u2500\u2500\u2500\u2500\u2500\u2518  \n"
       ]
      }
     ],
     "prompt_number": 3
    },
    {
     "cell_type": "code",
     "collapsed": false,
     "input": [
      "# Run the IC with the current configuration using -- print ic.run() -- \n",
      "\n",
      "# Note that the ic.run() returns a dict of pin configuration similar to \n",
      "\n",
      "print (ic.run())"
     ],
     "language": "python",
     "metadata": {},
     "outputs": [
      {
       "output_type": "stream",
       "stream": "stdout",
       "text": [
        "{4: 0, 5: 1, 6: 1, 7: 1, 9: 1, 10: 0, 11: 1, 12: 1}\n"
       ]
      }
     ],
     "prompt_number": 4
    },
    {
     "cell_type": "code",
     "collapsed": false,
     "input": [
      "# Seting the outputs to the current IC configuration using -- ic.set_IC(ic.run()) --\\n\n",
      "\n",
      "ic.set_IC(ic.run())\n",
      "\n",
      "# Draw the final configuration\n",
      "\n",
      "ic.draw_IC()"
     ],
     "language": "python",
     "metadata": {},
     "outputs": [
      {
       "output_type": "stream",
       "stream": "stdout",
       "text": [
        "\n",
        "\n",
        "              \u250c\u2500\u2500\u2500\u2500\u2500\u2500\u2500\u2500\u2500\u25e1\u2500\u2500\u2500\u2500\u2500\u2500\u2500\u2500\u2500\u2510\n",
        "              \u2502                   \u2502\n",
        "     [0]    \u2500\u2500\u2524  1            16  \u251c\u2500\u2500    [1]    \n",
        "              \u2502                   \u2502\n",
        "              \u2502                   \u2502\n",
        "     [0]    \u2500\u2500\u2524  2      7     15  \u251c\u2500\u2500    [0]    \n",
        "              \u2502                   \u2502\n",
        "              \u2502                   \u2502\n",
        "     [0]    \u2500\u2500\u2524  3      4     14  \u251c\u2500\u2500    [0]    \n",
        "              \u2502                   \u2502\n",
        "              \u2502                   \u2502\n",
        "     [0]    \u2500\u2500\u2524  4      1     13  \u251c\u2500\u2500    [1]    \n",
        "              \u2502                   \u2502\n",
        "              \u2502                   \u2502\n",
        "     [1]    \u2500\u2500\u2524  5      3     12  \u251c\u2500\u2500    [1]    \n",
        "              \u2502                   \u2502\n",
        "              \u2502                   \u2502\n",
        "     [1]    \u2500\u2500\u2524  6      9     11  \u251c\u2500\u2500    [1]    \n",
        "              \u2502                   \u2502\n",
        "              \u2502                   \u2502\n",
        "     [1]    \u2500\u2500\u2524  7            10  \u251c\u2500\u2500    [0]    \n",
        "              \u2502                   \u2502\n",
        "              \u2502                   \u2502\n",
        "     [0]    \u2500\u2500\u2524  8             9  \u251c\u2500\u2500    [1]    \n",
        "              \u2502                   \u2502\n",
        "              \u2514\u2500\u2500\u2500\u2500\u2500\u2500\u2500\u2500\u2500\u2500\u2500\u2500\u2500\u2500\u2500\u2500\u2500\u2500\u2500\u2518  \n"
       ]
      }
     ],
     "prompt_number": 5
    },
    {
     "cell_type": "code",
     "collapsed": false,
     "input": [
      "# Seting the outputs to the current IC configuration using -- ic.set_IC(ic.run()) --\n",
      "\n",
      "ic.set_IC(ic.run())\n",
      "\n",
      "# Draw the final configuration\n",
      "\n",
      "ic.draw_IC()\n",
      "\n",
      "# Run the IC\n",
      "\n",
      "print (ic.run())"
     ],
     "language": "python",
     "metadata": {},
     "outputs": [
      {
       "output_type": "stream",
       "stream": "stdout",
       "text": [
        "\n",
        "\n",
        "              \u250c\u2500\u2500\u2500\u2500\u2500\u2500\u2500\u2500\u2500\u25e1\u2500\u2500\u2500\u2500\u2500\u2500\u2500\u2500\u2500\u2510\n",
        "              \u2502                   \u2502\n",
        "     [0]    \u2500\u2500\u2524  1            16  \u251c\u2500\u2500    [1]    \n",
        "              \u2502                   \u2502\n",
        "              \u2502                   \u2502\n",
        "     [0]    \u2500\u2500\u2524  2      7     15  \u251c\u2500\u2500    [0]    \n",
        "              \u2502                   \u2502\n",
        "              \u2502                   \u2502\n",
        "     [0]    \u2500\u2500\u2524  3      4     14  \u251c\u2500\u2500    [0]    \n",
        "              \u2502                   \u2502\n",
        "              \u2502                   \u2502\n",
        "     [0]    \u2500\u2500\u2524  4      1     13  \u251c\u2500\u2500    [1]    \n",
        "              \u2502                   \u2502\n",
        "              \u2502                   \u2502\n",
        "     [1]    \u2500\u2500\u2524  5      3     12  \u251c\u2500\u2500    [1]    \n",
        "              \u2502                   \u2502\n",
        "              \u2502                   \u2502\n",
        "     [1]    \u2500\u2500\u2524  6      9     11  \u251c\u2500\u2500    [1]    \n",
        "              \u2502                   \u2502\n",
        "              \u2502                   \u2502\n",
        "     [1]    \u2500\u2500\u2524  7            10  \u251c\u2500\u2500    [0]    \n",
        "              \u2502                   \u2502\n",
        "              \u2502                   \u2502\n",
        "     [0]    \u2500\u2500\u2524  8             9  \u251c\u2500\u2500    [1]    \n",
        "              \u2502                   \u2502\n",
        "              \u2514\u2500\u2500\u2500\u2500\u2500\u2500\u2500\u2500\u2500\u2500\u2500\u2500\u2500\u2500\u2500\u2500\u2500\u2500\u2500\u2518  \n",
        "{4: 0, 5: 1, 6: 1, 7: 1, 9: 1, 10: 0, 11: 1, 12: 1}\n"
       ]
      }
     ],
     "prompt_number": 6
    },
    {
     "cell_type": "code",
     "collapsed": false,
     "input": [
      "# Connector Outputs\n",
      "c = Connector()\n",
      "\n",
      "# Set the output connector to a particular pin of the ic\n",
      "ic.set_output(9, c)\n",
      "\n",
      "print(c)"
     ],
     "language": "python",
     "metadata": {},
     "outputs": [
      {
       "output_type": "stream",
       "stream": "stdout",
       "text": [
        "Connector; State: 1\n"
       ]
      }
     ],
     "prompt_number": 7
    }
   ],
   "metadata": {}
  }
 ]
}