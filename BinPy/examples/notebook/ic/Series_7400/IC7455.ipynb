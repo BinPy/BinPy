{
 "metadata": {
  "name": "",
  "signature": "sha256:449661b84d369a00bc47ef6e4eb13782f88bca60c1a6ce76cbfb0c91be7813d1"
 },
 "nbformat": 3,
 "nbformat_minor": 0,
 "worksheets": [
  {
   "cells": [
    {
     "cell_type": "heading",
     "level": 2,
     "metadata": {},
     "source": [
      "Usage of IC 7455"
     ]
    },
    {
     "cell_type": "code",
     "collapsed": false,
     "input": [
      "from __future__ import print_function\n",
      "from BinPy import *"
     ],
     "language": "python",
     "metadata": {},
     "outputs": [],
     "prompt_number": 1
    },
    {
     "cell_type": "code",
     "collapsed": false,
     "input": [
      "# Usage of IC 7455:\n",
      "\n",
      "ic = IC_7455()\n",
      "\n",
      "print(ic.__doc__)"
     ],
     "language": "python",
     "metadata": {},
     "outputs": [
      {
       "output_type": "stream",
       "stream": "stdout",
       "text": [
        "\n",
        "    This is a 4-wide 2-input AND-OR Invert gate\n",
        "    \n"
       ]
      }
     ],
     "prompt_number": 2
    },
    {
     "cell_type": "code",
     "collapsed": false,
     "input": [
      "# The Pin configuration is:\n",
      "\n",
      "inp = {1: 1, 2: 0, 3: 0, 4: 0, 7: 0, 9: 1, 10: 1, 11: 0, 12: 0, 13: 0, 14: 1}\n",
      "\n",
      "# Pin initinalization\n",
      "\n",
      "# Powering up the IC - using -- ic.set_IC({14: 1, 7: 0})\n",
      "\n",
      "ic.set_IC({14: 1, 7: 0})\n",
      "\n",
      "# Setting the inputs of the ic\n",
      "\n",
      "ic.set_IC(inp)\n",
      "\n",
      "# Draw the IC with the current configuration\\n\n",
      "\n",
      "ic.draw_IC()"
     ],
     "language": "python",
     "metadata": {},
     "outputs": [
      {
       "output_type": "stream",
       "stream": "stdout",
       "text": [
        "\n",
        "\n",
        "              \u250c\u2500\u2500\u2500\u2500\u2500\u2500\u2500\u2500\u2500\u25e1\u2500\u2500\u2500\u2500\u2500\u2500\u2500\u2500\u2500\u2510\n",
        "              \u2502                   \u2502\n",
        "     [1]    \u2500\u2500\u2524  1            14  \u251c\u2500\u2500    [1]    \n",
        "              \u2502                   \u2502\n",
        "              \u2502                   \u2502\n",
        "     [0]    \u2500\u2500\u2524  2      7     13  \u251c\u2500\u2500    [0]    \n",
        "              \u2502                   \u2502\n",
        "              \u2502                   \u2502\n",
        "     [0]    \u2500\u2500\u2524  3      4     12  \u251c\u2500\u2500    [0]    \n",
        "              \u2502                   \u2502\n",
        "              \u2502                   \u2502\n",
        "     [0]    \u2500\u2500\u2524  4      5     11  \u251c\u2500\u2500    [0]    \n",
        "              \u2502                   \u2502\n",
        "              \u2502                   \u2502\n",
        "     [0]    \u2500\u2500\u2524  5      5     10  \u251c\u2500\u2500    [1]    \n",
        "              \u2502                   \u2502\n",
        "              \u2502                   \u2502\n",
        "     [0]    \u2500\u2500\u2524  6             9  \u251c\u2500\u2500    [1]    \n",
        "              \u2502                   \u2502\n",
        "              \u2502                   \u2502\n",
        "     [0]    \u2500\u2500\u2524  7             8  \u251c\u2500\u2500    [Z]    \n",
        "              \u2502                   \u2502\n",
        "              \u2514\u2500\u2500\u2500\u2500\u2500\u2500\u2500\u2500\u2500\u2500\u2500\u2500\u2500\u2500\u2500\u2500\u2500\u2500\u2500\u2518  \n"
       ]
      }
     ],
     "prompt_number": 3
    },
    {
     "cell_type": "code",
     "collapsed": false,
     "input": [
      "# Run the IC with the current configuration using -- print ic.run() -- \n",
      "\n",
      "# Note that the ic.run() returns a dict of pin configuration similar to \n",
      "\n",
      "print (ic.run())"
     ],
     "language": "python",
     "metadata": {},
     "outputs": [
      {
       "output_type": "stream",
       "stream": "stdout",
       "text": [
        "{8: 1}\n"
       ]
      }
     ],
     "prompt_number": 4
    },
    {
     "cell_type": "code",
     "collapsed": false,
     "input": [
      "# Seting the outputs to the current IC configuration using -- ic.set_IC(ic.run()) --\\n\n",
      "\n",
      "ic.set_IC(ic.run())\n",
      "\n",
      "# Draw the final configuration\n",
      "\n",
      "ic.draw_IC()"
     ],
     "language": "python",
     "metadata": {},
     "outputs": [
      {
       "output_type": "stream",
       "stream": "stdout",
       "text": [
        "\n",
        "\n",
        "              \u250c\u2500\u2500\u2500\u2500\u2500\u2500\u2500\u2500\u2500\u25e1\u2500\u2500\u2500\u2500\u2500\u2500\u2500\u2500\u2500\u2510\n",
        "              \u2502                   \u2502\n",
        "     [1]    \u2500\u2500\u2524  1            14  \u251c\u2500\u2500    [1]    \n",
        "              \u2502                   \u2502\n",
        "              \u2502                   \u2502\n",
        "     [0]    \u2500\u2500\u2524  2      7     13  \u251c\u2500\u2500    [0]    \n",
        "              \u2502                   \u2502\n",
        "              \u2502                   \u2502\n",
        "     [0]    \u2500\u2500\u2524  3      4     12  \u251c\u2500\u2500    [0]    \n",
        "              \u2502                   \u2502\n",
        "              \u2502                   \u2502\n",
        "     [0]    \u2500\u2500\u2524  4      5     11  \u251c\u2500\u2500    [0]    \n",
        "              \u2502                   \u2502\n",
        "              \u2502                   \u2502\n",
        "     [0]    \u2500\u2500\u2524  5      5     10  \u251c\u2500\u2500    [1]    \n",
        "              \u2502                   \u2502\n",
        "              \u2502                   \u2502\n",
        "     [0]    \u2500\u2500\u2524  6             9  \u251c\u2500\u2500    [1]    \n",
        "              \u2502                   \u2502\n",
        "              \u2502                   \u2502\n",
        "     [0]    \u2500\u2500\u2524  7             8  \u251c\u2500\u2500    [1]    \n",
        "              \u2502                   \u2502\n",
        "              \u2514\u2500\u2500\u2500\u2500\u2500\u2500\u2500\u2500\u2500\u2500\u2500\u2500\u2500\u2500\u2500\u2500\u2500\u2500\u2500\u2518  \n"
       ]
      }
     ],
     "prompt_number": 5
    },
    {
     "cell_type": "code",
     "collapsed": false,
     "input": [
      "# Seting the outputs to the current IC configuration using -- ic.set_IC(ic.run()) --\n",
      "\n",
      "ic.set_IC(ic.run())\n",
      "\n",
      "# Draw the final configuration\n",
      "\n",
      "ic.draw_IC()\n",
      "\n",
      "# Run the IC\n",
      "\n",
      "print (ic.run())"
     ],
     "language": "python",
     "metadata": {},
     "outputs": [
      {
       "output_type": "stream",
       "stream": "stdout",
       "text": [
        "\n",
        "\n",
        "              \u250c\u2500\u2500\u2500\u2500\u2500\u2500\u2500\u2500\u2500\u25e1\u2500\u2500\u2500\u2500\u2500\u2500\u2500\u2500\u2500\u2510\n",
        "              \u2502                   \u2502\n",
        "     [1]    \u2500\u2500\u2524  1            14  \u251c\u2500\u2500    [1]    \n",
        "              \u2502                   \u2502\n",
        "              \u2502                   \u2502\n",
        "     [0]    \u2500\u2500\u2524  2      7     13  \u251c\u2500\u2500    [0]    \n",
        "              \u2502                   \u2502\n",
        "              \u2502                   \u2502\n",
        "     [0]    \u2500\u2500\u2524  3      4     12  \u251c\u2500\u2500    [0]    \n",
        "              \u2502                   \u2502\n",
        "              \u2502                   \u2502\n",
        "     [0]    \u2500\u2500\u2524  4      5     11  \u251c\u2500\u2500    [0]    \n",
        "              \u2502                   \u2502\n",
        "              \u2502                   \u2502\n",
        "     [0]    \u2500\u2500\u2524  5      5     10  \u251c\u2500\u2500    [1]    \n",
        "              \u2502                   \u2502\n",
        "              \u2502                   \u2502\n",
        "     [0]    \u2500\u2500\u2524  6             9  \u251c\u2500\u2500    [1]    \n",
        "              \u2502                   \u2502\n",
        "              \u2502                   \u2502\n",
        "     [0]    \u2500\u2500\u2524  7             8  \u251c\u2500\u2500    [1]    \n",
        "              \u2502                   \u2502\n",
        "              \u2514\u2500\u2500\u2500\u2500\u2500\u2500\u2500\u2500\u2500\u2500\u2500\u2500\u2500\u2500\u2500\u2500\u2500\u2500\u2500\u2518  \n",
        "{8: 1}\n"
       ]
      }
     ],
     "prompt_number": 6
    },
    {
     "cell_type": "code",
     "collapsed": false,
     "input": [
      "# Connector Outputs\n",
      "c = Connector()\n",
      "\n",
      "# Set the output connector to a particular pin of the ic\n",
      "ic.set_output(8, c)\n",
      "\n",
      "print(c)"
     ],
     "language": "python",
     "metadata": {},
     "outputs": [
      {
       "output_type": "stream",
       "stream": "stdout",
       "text": [
        "Connector; State: 1\n"
       ]
      }
     ],
     "prompt_number": 7
    }
   ],
   "metadata": {}
  }
 ]
}